{
 "cells": [
  {
   "cell_type": "code",
   "execution_count": 2,
   "metadata": {},
   "outputs": [],
   "source": [
    "import os\n",
    "# меняем строку на путь до корневой папки проекта\n",
    "full_path = r'D:\\СОБЕС\\2022\\НИИ_системной_биологии\\Поиск_клик_в_неориентированном_неполном_графе'\n",
    "os.chdir(full_path)\n",
    "from NotOrientedGraphModule import NotOrientedGraph\n",
    "from CliqueFinderClass import CliqueFinder\n",
    "\n",
    "from tqdm import notebook\n",
    "import networkx as nx\n",
    "import pandas as pd"
   ]
  },
  {
   "cell_type": "code",
   "execution_count": 3,
   "metadata": {},
   "outputs": [
    {
     "name": "stdout",
     "output_type": "stream",
     "text": [
      "Текущая рабочая директория:\n",
      " D:\\СОБЕС\\2022\\НИИ_системной_биологии\\Поиск_клик_в_неориентированном_неполном_графе\n",
      "\n",
      "Перечень файлов и папок в корневом каталоге проекта: \n",
      "\n",
      ".git\n",
      ".idea\n",
      "Алгоритмы\n",
      "__pycache__\n",
      "TestClassesFile.py\n",
      "CliqueFinderClass.py\n",
      "NotOrientedGraphModule.py\n",
      "ПЛАН выполнения задания.txt\n",
      "find_klicks_in_inoriented_graph_notebook.ipynb\n"
     ]
    }
   ],
   "source": [
    "print(f'Текущая рабочая директория:\\n {os.getcwd()}')\n",
    "print('\\nПеречень файлов и папок в корневом каталоге проекта: \\n')\n",
    "print(\"\\n\".join([elem for elem in sorted(os.listdir(),key=len)]))"
   ]
  },
  {
   "cell_type": "code",
   "execution_count": 4,
   "metadata": {},
   "outputs": [
    {
     "name": "stdout",
     "output_type": "stream",
     "text": [
      "\n",
      "    Данный класс создает неориентированный граф.\n",
      "    С заданным количеством вершин (N)\n",
      "    Если параметр <complete> == 'yes',\n",
      "    то создает полный граф,\n",
      "    если он равен 'no' - неполный граф.\n",
      "    Lower & Upper Bounds - границы (нижняя и верхняя соотв.)\n",
      "    интервала значений для матрицы смежности (веса ребер графа!)\n",
      "    (все ребра, веса которых выходят за его границы - отсекаются).\n",
      "    Далее матрица смежности используется для построения\n",
      "    неориентированного графа заданной полноты (атрибут \"complete\").\n",
      "    В случае графа с одинаковыми весами ребер (аттрибут <weighted> == 'no')\n",
      "    им всем присваивается значение 1!\n",
      "    \n"
     ]
    }
   ],
   "source": [
    "# doc-строка класса NotOrientedGraph\n",
    "print(NotOrientedGraph.__doc__)"
   ]
  },
  {
   "cell_type": "code",
   "execution_count": 5,
   "metadata": {},
   "outputs": [],
   "source": [
    "# структура класса NotOrientedGraph\n",
    "#print(NotOrientedGraph.__dict__)"
   ]
  },
  {
   "cell_type": "markdown",
   "metadata": {},
   "source": [
    "1 ЭТАП - ПОСТРОЕНИЕ ГРАФА!!!"
   ]
  },
  {
   "cell_type": "code",
   "execution_count": 6,
   "metadata": {},
   "outputs": [],
   "source": [
    "nodes_num = 1111"
   ]
  },
  {
   "cell_type": "code",
   "execution_count": 7,
   "metadata": {},
   "outputs": [
    {
     "name": "stdout",
     "output_type": "stream",
     "text": [
      "Wall time: 181 ms\n"
     ]
    }
   ],
   "source": [
    "%%time\n",
    "# создаем \"заготовку\" НЕВЗВЕШЕННОГО графа\n",
    "raw_graph = NotOrientedGraph(N=nodes_num,\n",
    "                 complete='no',\n",
    "                 lower_bound=0.3,\n",
    "                 upper_bound=0.5,\n",
    "                 weighted='no')\n",
    "\n",
    "#test_graph = raw_graph.build_graph()\n",
    "#test_graph.set_N(-1)\n",
    "#test_graph.set_lower_bound(0.9)\n",
    "#test_graph.set_complete(876)\n",
    "#print(test_graph.__dict__)\n",
    "#print(test_graph.edges)\n",
    "#print(test_graph.nodes.data())\n",
    "#print([test_graph[node] for node in test_graph])\n",
    "#print(test_graph[4])\n",
    "\n",
    "# отрисовка всего исходного графа\n",
    "# получение графа в виде объекта класса NetworkX\n",
    "#graph = NotOrientedGraph.draw_graph(raw_graph)\n",
    "graph = NotOrientedGraph.build_graph(raw_graph)"
   ]
  },
  {
   "cell_type": "code",
   "execution_count": 8,
   "metadata": {},
   "outputs": [],
   "source": [
    "#print([graph[node] for node in graph])\n",
    "# вывод только узлов графа в виде списка - \n",
    "# для окрашивания найденных клик!!!\n",
    "#list(graph.nodes())"
   ]
  },
  {
   "cell_type": "code",
   "execution_count": 9,
   "metadata": {},
   "outputs": [],
   "source": [
    "# создаем \"заготовку\" ВЗВЕШЕННОГО графа\n",
    "another_raw_graph = NotOrientedGraph(N=nodes_num,\n",
    "                 complete='no',\n",
    "                 lower_bound=0.1,\n",
    "                 upper_bound=0.9,\n",
    "                 weighted='yes')\n",
    "#another_graph = NotOrientedGraph.draw_graph(another_raw_graph)"
   ]
  },
  {
   "cell_type": "markdown",
   "metadata": {},
   "source": [
    "2 ЭТАП - НАХОЖДЕНИЕ КЛИК В ГРАФЕ"
   ]
  },
  {
   "cell_type": "markdown",
   "metadata": {},
   "source": [
    "ОТ И БОЛЕЕ (КОЛИЧЕСТВО ВЕРШИН НА ОДНУ НАЙДЕННУЮ КЛИКУ)"
   ]
  },
  {
   "cell_type": "code",
   "execution_count": 10,
   "metadata": {},
   "outputs": [
    {
     "name": "stdout",
     "output_type": "stream",
     "text": [
      "В исходном графе с общим количеством вершин, равном <1111> (шт.)\n",
      "\n",
      "Найдено клик: <54> (шт.)\n",
      "\n",
      "Найденные клики НЕ ПЕРЕСЕКАЮТСЯ по вершинам исходного графа.\n",
      "ОК!\n",
      "Уникальных вершин: <216> (шт.)\n",
      "Wall time: 165 ms\n"
     ]
    }
   ],
   "source": [
    "%%time\n",
    "found_cliques_from_class = CliqueFinder(graph=graph,\n",
    "                                        method='default',\n",
    "                                        clique_vertex_num=4,\n",
    "                                        vertex_num_equals='no').find_cliques_sorted()"
   ]
  },
  {
   "cell_type": "code",
   "execution_count": 11,
   "metadata": {},
   "outputs": [],
   "source": [
    "found_cliques_from_class_inverted = found_cliques_from_class[::-1]\n",
    "#found_cliques_from_class_inverted"
   ]
  },
  {
   "cell_type": "markdown",
   "metadata": {},
   "source": [
    "СТРОГО ЗАДАННОЕ КОЛИЧЕСТВО ВЕРШИН НА ОДНУ НАЙДЕННУЮ КЛИКУ"
   ]
  },
  {
   "cell_type": "code",
   "execution_count": 12,
   "metadata": {},
   "outputs": [
    {
     "name": "stdout",
     "output_type": "stream",
     "text": [
      "В исходном графе с общим количеством вершин, равном <1111> (шт.)\n",
      "\n",
      "Найдено клик: <54> (шт.)\n",
      "\n",
      "Найденные клики НЕ ПЕРЕСЕКАЮТСЯ по вершинам исходного графа.\n",
      "ОК!\n",
      "Уникальных вершин: <216> (шт.)\n",
      "Wall time: 167 ms\n"
     ]
    }
   ],
   "source": [
    "%%time\n",
    "found_cliques_from_class_equal_vertex_num = CliqueFinder(graph=graph,\n",
    "                                        method='default',\n",
    "                                        clique_vertex_num=4,\n",
    "                                        vertex_num_equals='yes').find_cliques_sorted()"
   ]
  },
  {
   "cell_type": "markdown",
   "metadata": {},
   "source": [
    "3 ЭТАП - НАХОЖДЕНИЕ КЛИК И ИХ ВИЗУАЛИЗАЦИЯ"
   ]
  },
  {
   "cell_type": "markdown",
   "metadata": {},
   "source": [
    "НАХОЖДЕНИЕ КЛИК В ГРАФЕ С ПОСЛЕДУЮЩИМ ПОЛУЧЕНИЕМ РИСУНКА!\n",
    "\n",
    "\n",
    "для этого устанавливаем количество вершин исходного графа поменьше"
   ]
  },
  {
   "cell_type": "code",
   "execution_count": 41,
   "metadata": {},
   "outputs": [
    {
     "name": "stdout",
     "output_type": "stream",
     "text": [
      "В исходном графе с общим количеством вершин, равном <55> (шт.)\n",
      "\n",
      "Найдено клик: <3> (шт.)\n",
      "\n",
      "Найденные клики НЕ ПЕРЕСЕКАЮТСЯ по вершинам исходного графа.\n",
      "ОК!\n",
      "Уникальных вершин: <9> (шт.)\n",
      "\n",
      " ВЕРШИНЫ НАЙДЕННЫХ КЛИК В ИСХОДНОМ ГРАФЕ:\n",
      "[[44, 52, 47], [4, 41, 16], [0, 20, 31]]\n",
      "Wall time: 33.8 ms\n"
     ]
    },
    {
     "data": {
      "image/png": "[encoded data removed]",
      "text/plain": [
       "<Figure size 576x576 with 1 Axes>"
      ]
     },
     "metadata": {},
     "output_type": "display_data"
    }
   ],
   "source": [
    "%%time\n",
    "vertex_num = 55\n",
    "# создаем \"заготовку\" НЕВЗВЕШЕННОГО графа\n",
    "raw_graph_visualization = NotOrientedGraph(N=vertex_num,\n",
    "                 complete='no',\n",
    "                 lower_bound=0.3,\n",
    "                 upper_bound=0.5,\n",
    "                 weighted='no')\n",
    "graph_visualization = NotOrientedGraph.build_graph(raw_graph_visualization)\n",
    "found_cliques_visualization = CliqueFinder(graph=graph_visualization,\n",
    "                                        method='default',\n",
    "                                        clique_vertex_num=3,\n",
    "                                        vertex_num_equals='no',\n",
    "                                        show_cliques_on_graph='yes'\n",
    "                                       ).find_cliques_sorted()\n",
    "print(f'\\n ВЕРШИНЫ НАЙДЕННЫХ КЛИК В ИСХОДНОМ ГРАФЕ:\\n{found_cliques_visualization}')"
   ]
  },
  {
   "cell_type": "code",
   "execution_count": null,
   "metadata": {},
   "outputs": [],
   "source": []
  },
  {
   "cell_type": "code",
   "execution_count": null,
   "metadata": {},
   "outputs": [],
   "source": []
  },
  {
   "cell_type": "markdown",
   "metadata": {},
   "source": [
    "ЧЕРНОВИКИ!!!"
   ]
  },
  {
   "cell_type": "code",
   "execution_count": 14,
   "metadata": {},
   "outputs": [],
   "source": [
    "#def bronk2(R, P, X, g):\n",
    "#    if not any((P, X)):\n",
    "#        yield R\n",
    "#    for v in P[:]:\n",
    "#        R_v = R + [v]\n",
    "#        P_v = [v1 for v1 in P if v1 in search_neighbours(v, g)]\n",
    "#        X_v = [v1 for v1 in X if v1 in search_neighbours(v, g)]\n",
    "#        for r in bronk2(R_v, P_v, X_v, g):\n",
    "#            yield r\n",
    "#        P.remove(v)\n",
    "#        X.append(v)\n",
    "#def search_neighbours(v, g):\n",
    "#    return [i for i, n_v in enumerate(g[v]) if n_v]"
   ]
  },
  {
   "cell_type": "code",
   "execution_count": 15,
   "metadata": {},
   "outputs": [],
   "source": [
    "#print([another_graph[node] for node in another_graph])"
   ]
  },
  {
   "cell_type": "code",
   "execution_count": 16,
   "metadata": {},
   "outputs": [],
   "source": [
    "#def bron_kerbosch_max_by_inclusion(m):\n",
    "\n",
    "#    results = []\n",
    "\n",
    "#    def check(candidates, wrong):\n",
    "#        for i in wrong:\n",
    "#            q = True\n",
    "#            for j in candidates:\n",
    "#                if m[i][j]:\n",
    "#                    q = False\n",
    "#                    break\n",
    "#            if q: return False\n",
    "#        return True\n",
    "\n",
    "#    def extend(compsub, candidates, wrong):\n",
    "\n",
    "#        while candidates and check(candidates, wrong):\n",
    "\n",
    "#            v = candidates[0]\n",
    "#            compsub.append(v)\n",
    "\n",
    "#            new_candidates = [ i for i in candidates if not m[i][v] and i != v ]\n",
    "#            new_wrong = [ i for i in wrong if not m[i][v] and i != v ]\n",
    "\n",
    "#            if not new_candidates and not new_wrong:\n",
    "#                results.append(list(compsub))\n",
    "#            else:\n",
    "#                extend(compsub, new_candidates, new_wrong)\n",
    "\n",
    "#            candidates.remove(v)\n",
    "#            compsub.remove(v)\n",
    "#            wrong.append(v)\n",
    "\n",
    "#    extend([], list(range(len(m))), [])\n",
    "\n",
    "#    return results"
   ]
  },
  {
   "cell_type": "code",
   "execution_count": 17,
   "metadata": {},
   "outputs": [],
   "source": [
    "#for i in another_graph[1]:\n",
    "#    print(i)\n",
    "#    print(another_graph[i])\n",
    "#    print()"
   ]
  },
  {
   "cell_type": "code",
   "execution_count": 18,
   "metadata": {},
   "outputs": [],
   "source": [
    "#search_neighbours(0, another_graph)"
   ]
  },
  {
   "cell_type": "code",
   "execution_count": 19,
   "metadata": {},
   "outputs": [],
   "source": [
    "#sys.setrecursionlimit(50000)\n",
    "#print(sys.getrecursionlimit())"
   ]
  }
 ],
 "metadata": {
  "kernelspec": {
   "display_name": "Python 3",
   "language": "python",
   "name": "python3"
  },
  "language_info": {
   "codemirror_mode": {
    "name": "ipython",
    "version": 3
   },
   "file_extension": ".py",
   "mimetype": "text/x-python",
   "name": "python",
   "nbconvert_exporter": "python",
   "pygments_lexer": "ipython3",
   "version": "3.8.3"
  }
 },
 "nbformat": 4,
 "nbformat_minor": 4
}
