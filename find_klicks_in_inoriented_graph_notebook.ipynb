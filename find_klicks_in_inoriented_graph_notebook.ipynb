{
 "cells": [
  {
   "cell_type": "code",
   "execution_count": 1,
   "metadata": {},
   "outputs": [
    {
     "ename": "ModuleNotFoundError",
     "evalue": "No module named 'NotOrientedGraphModule'",
     "output_type": "error",
     "traceback": [
      "\u001b[1;31m---------------------------------------------------------------------------\u001b[0m",
      "\u001b[1;31mModuleNotFoundError\u001b[0m                       Traceback (most recent call last)",
      "\u001b[1;32m<ipython-input-1-8a84da6c1c62>\u001b[0m in \u001b[0;36m<module>\u001b[1;34m\u001b[0m\n\u001b[1;32m----> 1\u001b[1;33m \u001b[1;32mfrom\u001b[0m \u001b[0mNotOrientedGraphModule\u001b[0m \u001b[1;32mimport\u001b[0m \u001b[0mNotOrientedGraph\u001b[0m\u001b[1;33m\u001b[0m\u001b[1;33m\u001b[0m\u001b[0m\n\u001b[0m",
      "\u001b[1;31mModuleNotFoundError\u001b[0m: No module named 'NotOrientedGraphModule'"
     ]
    }
   ],
   "source": [
    "from NotOrientedGraphModule import NotOrientedGraph"
   ]
  },
  {
   "cell_type": "code",
   "execution_count": null,
   "metadata": {},
   "outputs": [],
   "source": [
    "raw_graph = NotOrientedGraph(33, 'no', 0.3, 0.9, 'yes')\n",
    "test_graph = raw_graph.build_graph()\n",
    "\n",
    "#test_graph.set_N(-1)\n",
    "#test_graph.set_lower_bound(0.9)\n",
    "#test_graph.set_complete(876)\n",
    "#print(test_graph.__dict__)\n",
    "\n",
    "print(test_graph.edges)\n",
    "print(test_graph.nodes.data())\n",
    "print([test_graph[node] for node in test_graph])\n",
    "print(test_graph[4])\n",
    "NotOrientedGraph.draw_graph(raw_graph)"
   ]
  }
 ],
 "metadata": {
  "kernelspec": {
   "display_name": "Python 3",
   "language": "python",
   "name": "python3"
  },
  "language_info": {
   "codemirror_mode": {
    "name": "ipython",
    "version": 3
   },
   "file_extension": ".py",
   "mimetype": "text/x-python",
   "name": "python",
   "nbconvert_exporter": "python",
   "pygments_lexer": "ipython3",
   "version": "3.8.3"
  }
 },
 "nbformat": 4,
 "nbformat_minor": 4
}
